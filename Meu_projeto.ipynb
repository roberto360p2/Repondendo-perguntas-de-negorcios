{
 "cells": [
  {
   "cell_type": "markdown",
   "id": "4654c631",
   "metadata": {},
   "source": [
    "# Índice <a name = \"Voltar\"></a>\n",
    "\n",
    "1. [Importando os pacotes](#1)\n",
    "2. [Importando a base de dados](#2)\n",
    "3. [Analise da qualidade dos dados](#3)\n",
    "4. [Analise Exploratoria dos dados](#4)\n",
    "5. [Machine Learning](#5)\n",
    "6. [Conclusoes](#6)"
   ]
  },
  {
   "cell_type": "markdown",
   "id": "4deffc57",
   "metadata": {},
   "source": [
    "# <font color = \"Green\"> **1 Importando os pacotes** <a name = \"1\"></a>\n",
    "    \n",
    "[Voltar ao Indice](#Voltar)    "
   ]
  },
  {
   "cell_type": "code",
   "execution_count": 1,
   "id": "b7fe6b57",
   "metadata": {},
   "outputs": [],
   "source": [
    "import pandas as pd\n",
    "import numpy as np\n",
    "import matplotlib.pyplot as plt\n",
    "import plotly.graph_objects as go\n",
    "import seaborn as sns"
   ]
  },
  {
   "cell_type": "markdown",
   "id": "42d76b4b",
   "metadata": {},
   "source": [
    "# <font color = \"Green\"> **2 Importando a base de dados** <a name = \"2\"></a>\n",
    "    \n",
    "[Voltar ao Indice](#Voltar)    "
   ]
  },
  {
   "cell_type": "code",
   "execution_count": 35,
   "id": "2185c7fd",
   "metadata": {},
   "outputs": [
    {
     "data": {
      "text/html": [
       "<div>\n",
       "<style scoped>\n",
       "    .dataframe tbody tr th:only-of-type {\n",
       "        vertical-align: middle;\n",
       "    }\n",
       "\n",
       "    .dataframe tbody tr th {\n",
       "        vertical-align: top;\n",
       "    }\n",
       "\n",
       "    .dataframe thead th {\n",
       "        text-align: right;\n",
       "    }\n",
       "</style>\n",
       "<table border=\"1\" class=\"dataframe\">\n",
       "  <thead>\n",
       "    <tr style=\"text-align: right;\">\n",
       "      <th></th>\n",
       "      <th>title</th>\n",
       "      <th>title_orig</th>\n",
       "      <th>price</th>\n",
       "      <th>retail_price</th>\n",
       "      <th>currency_buyer</th>\n",
       "      <th>units_sold</th>\n",
       "      <th>uses_ad_boosts</th>\n",
       "      <th>rating</th>\n",
       "      <th>rating_count</th>\n",
       "      <th>rating_five_count</th>\n",
       "      <th>...</th>\n",
       "      <th>merchant_rating_count</th>\n",
       "      <th>merchant_rating</th>\n",
       "      <th>merchant_id</th>\n",
       "      <th>merchant_has_profile_picture</th>\n",
       "      <th>merchant_profile_picture</th>\n",
       "      <th>product_url</th>\n",
       "      <th>product_picture</th>\n",
       "      <th>product_id</th>\n",
       "      <th>theme</th>\n",
       "      <th>crawl_month</th>\n",
       "    </tr>\n",
       "  </thead>\n",
       "  <tbody>\n",
       "    <tr>\n",
       "      <th>0</th>\n",
       "      <td>2020 Summer Vintage Flamingo Print  Pajamas Se...</td>\n",
       "      <td>2020 Summer Vintage Flamingo Print  Pajamas Se...</td>\n",
       "      <td>16.00</td>\n",
       "      <td>14</td>\n",
       "      <td>EUR</td>\n",
       "      <td>100</td>\n",
       "      <td>0</td>\n",
       "      <td>3.76</td>\n",
       "      <td>54</td>\n",
       "      <td>26.0</td>\n",
       "      <td>...</td>\n",
       "      <td>568</td>\n",
       "      <td>4.128521</td>\n",
       "      <td>595097d6a26f6e070cb878d1</td>\n",
       "      <td>0</td>\n",
       "      <td>NaN</td>\n",
       "      <td>https://www.wish.com/c/5e9ae51d43d6a96e303acdb0</td>\n",
       "      <td>https://contestimg.wish.com/api/webimage/5e9ae...</td>\n",
       "      <td>5e9ae51d43d6a96e303acdb0</td>\n",
       "      <td>summer</td>\n",
       "      <td>2020-08</td>\n",
       "    </tr>\n",
       "    <tr>\n",
       "      <th>1</th>\n",
       "      <td>SSHOUSE Summer Casual Sleeveless Soirée Party ...</td>\n",
       "      <td>Women's Casual Summer Sleeveless Sexy Mini Dress</td>\n",
       "      <td>8.00</td>\n",
       "      <td>22</td>\n",
       "      <td>EUR</td>\n",
       "      <td>20000</td>\n",
       "      <td>1</td>\n",
       "      <td>3.45</td>\n",
       "      <td>6135</td>\n",
       "      <td>2269.0</td>\n",
       "      <td>...</td>\n",
       "      <td>17752</td>\n",
       "      <td>3.899673</td>\n",
       "      <td>56458aa03a698c35c9050988</td>\n",
       "      <td>0</td>\n",
       "      <td>NaN</td>\n",
       "      <td>https://www.wish.com/c/58940d436a0d3d5da4e95a38</td>\n",
       "      <td>https://contestimg.wish.com/api/webimage/58940...</td>\n",
       "      <td>58940d436a0d3d5da4e95a38</td>\n",
       "      <td>summer</td>\n",
       "      <td>2020-08</td>\n",
       "    </tr>\n",
       "    <tr>\n",
       "      <th>2</th>\n",
       "      <td>2020 Nouvelle Arrivée Femmes Printemps et Été ...</td>\n",
       "      <td>2020 New Arrival Women Spring and Summer Beach...</td>\n",
       "      <td>8.00</td>\n",
       "      <td>43</td>\n",
       "      <td>EUR</td>\n",
       "      <td>100</td>\n",
       "      <td>0</td>\n",
       "      <td>3.57</td>\n",
       "      <td>14</td>\n",
       "      <td>5.0</td>\n",
       "      <td>...</td>\n",
       "      <td>295</td>\n",
       "      <td>3.989831</td>\n",
       "      <td>5d464a1ffdf7bc44ee933c65</td>\n",
       "      <td>0</td>\n",
       "      <td>NaN</td>\n",
       "      <td>https://www.wish.com/c/5ea10e2c617580260d55310a</td>\n",
       "      <td>https://contestimg.wish.com/api/webimage/5ea10...</td>\n",
       "      <td>5ea10e2c617580260d55310a</td>\n",
       "      <td>summer</td>\n",
       "      <td>2020-08</td>\n",
       "    </tr>\n",
       "    <tr>\n",
       "      <th>3</th>\n",
       "      <td>Hot Summer Cool T-shirt pour les femmes Mode T...</td>\n",
       "      <td>Hot Summer Cool T Shirt for Women Fashion Tops...</td>\n",
       "      <td>8.00</td>\n",
       "      <td>8</td>\n",
       "      <td>EUR</td>\n",
       "      <td>5000</td>\n",
       "      <td>1</td>\n",
       "      <td>4.03</td>\n",
       "      <td>579</td>\n",
       "      <td>295.0</td>\n",
       "      <td>...</td>\n",
       "      <td>23832</td>\n",
       "      <td>4.020435</td>\n",
       "      <td>58cfdefdacb37b556efdff7c</td>\n",
       "      <td>0</td>\n",
       "      <td>NaN</td>\n",
       "      <td>https://www.wish.com/c/5cedf17ad1d44c52c59e4aca</td>\n",
       "      <td>https://contestimg.wish.com/api/webimage/5cedf...</td>\n",
       "      <td>5cedf17ad1d44c52c59e4aca</td>\n",
       "      <td>summer</td>\n",
       "      <td>2020-08</td>\n",
       "    </tr>\n",
       "    <tr>\n",
       "      <th>4</th>\n",
       "      <td>Femmes Shorts d'été à lacets taille élastique ...</td>\n",
       "      <td>Women Summer Shorts Lace Up Elastic Waistband ...</td>\n",
       "      <td>2.72</td>\n",
       "      <td>3</td>\n",
       "      <td>EUR</td>\n",
       "      <td>100</td>\n",
       "      <td>1</td>\n",
       "      <td>3.10</td>\n",
       "      <td>20</td>\n",
       "      <td>6.0</td>\n",
       "      <td>...</td>\n",
       "      <td>14482</td>\n",
       "      <td>4.001588</td>\n",
       "      <td>5ab3b592c3911a095ad5dadb</td>\n",
       "      <td>0</td>\n",
       "      <td>NaN</td>\n",
       "      <td>https://www.wish.com/c/5ebf5819ebac372b070b0e70</td>\n",
       "      <td>https://contestimg.wish.com/api/webimage/5ebf5...</td>\n",
       "      <td>5ebf5819ebac372b070b0e70</td>\n",
       "      <td>summer</td>\n",
       "      <td>2020-08</td>\n",
       "    </tr>\n",
       "  </tbody>\n",
       "</table>\n",
       "<p>5 rows × 43 columns</p>\n",
       "</div>"
      ],
      "text/plain": [
       "                                               title  \\\n",
       "0  2020 Summer Vintage Flamingo Print  Pajamas Se...   \n",
       "1  SSHOUSE Summer Casual Sleeveless Soirée Party ...   \n",
       "2  2020 Nouvelle Arrivée Femmes Printemps et Été ...   \n",
       "3  Hot Summer Cool T-shirt pour les femmes Mode T...   \n",
       "4  Femmes Shorts d'été à lacets taille élastique ...   \n",
       "\n",
       "                                          title_orig  price  retail_price  \\\n",
       "0  2020 Summer Vintage Flamingo Print  Pajamas Se...  16.00            14   \n",
       "1   Women's Casual Summer Sleeveless Sexy Mini Dress   8.00            22   \n",
       "2  2020 New Arrival Women Spring and Summer Beach...   8.00            43   \n",
       "3  Hot Summer Cool T Shirt for Women Fashion Tops...   8.00             8   \n",
       "4  Women Summer Shorts Lace Up Elastic Waistband ...   2.72             3   \n",
       "\n",
       "  currency_buyer  units_sold  uses_ad_boosts  rating  rating_count  \\\n",
       "0            EUR         100               0    3.76            54   \n",
       "1            EUR       20000               1    3.45          6135   \n",
       "2            EUR         100               0    3.57            14   \n",
       "3            EUR        5000               1    4.03           579   \n",
       "4            EUR         100               1    3.10            20   \n",
       "\n",
       "   rating_five_count  ...  merchant_rating_count  merchant_rating  \\\n",
       "0               26.0  ...                    568         4.128521   \n",
       "1             2269.0  ...                  17752         3.899673   \n",
       "2                5.0  ...                    295         3.989831   \n",
       "3              295.0  ...                  23832         4.020435   \n",
       "4                6.0  ...                  14482         4.001588   \n",
       "\n",
       "                merchant_id  merchant_has_profile_picture  \\\n",
       "0  595097d6a26f6e070cb878d1                             0   \n",
       "1  56458aa03a698c35c9050988                             0   \n",
       "2  5d464a1ffdf7bc44ee933c65                             0   \n",
       "3  58cfdefdacb37b556efdff7c                             0   \n",
       "4  5ab3b592c3911a095ad5dadb                             0   \n",
       "\n",
       "   merchant_profile_picture                                      product_url  \\\n",
       "0                       NaN  https://www.wish.com/c/5e9ae51d43d6a96e303acdb0   \n",
       "1                       NaN  https://www.wish.com/c/58940d436a0d3d5da4e95a38   \n",
       "2                       NaN  https://www.wish.com/c/5ea10e2c617580260d55310a   \n",
       "3                       NaN  https://www.wish.com/c/5cedf17ad1d44c52c59e4aca   \n",
       "4                       NaN  https://www.wish.com/c/5ebf5819ebac372b070b0e70   \n",
       "\n",
       "                                     product_picture  \\\n",
       "0  https://contestimg.wish.com/api/webimage/5e9ae...   \n",
       "1  https://contestimg.wish.com/api/webimage/58940...   \n",
       "2  https://contestimg.wish.com/api/webimage/5ea10...   \n",
       "3  https://contestimg.wish.com/api/webimage/5cedf...   \n",
       "4  https://contestimg.wish.com/api/webimage/5ebf5...   \n",
       "\n",
       "                 product_id   theme crawl_month  \n",
       "0  5e9ae51d43d6a96e303acdb0  summer     2020-08  \n",
       "1  58940d436a0d3d5da4e95a38  summer     2020-08  \n",
       "2  5ea10e2c617580260d55310a  summer     2020-08  \n",
       "3  5cedf17ad1d44c52c59e4aca  summer     2020-08  \n",
       "4  5ebf5819ebac372b070b0e70  summer     2020-08  \n",
       "\n",
       "[5 rows x 43 columns]"
      ]
     },
     "execution_count": 35,
     "metadata": {},
     "output_type": "execute_result"
    }
   ],
   "source": [
    "base = pd.read_csv(r\"C:\\Users\\Positivo\\Desktop\\Cursos\\Assimov\\Projeto2-Analisedevendasdeummarketplace\\Sales of Summer Wish\\summer-products-with-rating-and-performance_2020-08.csv\")\n",
    "\n",
    "base.head()"
   ]
  },
  {
   "cell_type": "markdown",
   "id": "c742e409",
   "metadata": {},
   "source": [
    "# <font color = \"Green\"> **3 Analise da qualidade dos dados** <a name = \"3\"></a>\n",
    "    \n",
    "[Voltar ao Indice](#Voltar)    "
   ]
  },
  {
   "cell_type": "code",
   "execution_count": 3,
   "id": "ff046bfd",
   "metadata": {},
   "outputs": [
    {
     "data": {
      "text/plain": [
       "(1573, 43)"
      ]
     },
     "execution_count": 3,
     "metadata": {},
     "output_type": "execute_result"
    }
   ],
   "source": [
    "base.shape"
   ]
  },
  {
   "cell_type": "code",
   "execution_count": 4,
   "id": "036cff6a",
   "metadata": {},
   "outputs": [
    {
     "name": "stdout",
     "output_type": "stream",
     "text": [
      "<class 'pandas.core.frame.DataFrame'>\n",
      "RangeIndex: 1573 entries, 0 to 1572\n",
      "Data columns (total 43 columns):\n",
      " #   Column                        Non-Null Count  Dtype  \n",
      "---  ------                        --------------  -----  \n",
      " 0   title                         1573 non-null   object \n",
      " 1   title_orig                    1573 non-null   object \n",
      " 2   price                         1573 non-null   float64\n",
      " 3   retail_price                  1573 non-null   int64  \n",
      " 4   currency_buyer                1573 non-null   object \n",
      " 5   units_sold                    1573 non-null   int64  \n",
      " 6   uses_ad_boosts                1573 non-null   int64  \n",
      " 7   rating                        1573 non-null   float64\n",
      " 8   rating_count                  1573 non-null   int64  \n",
      " 9   rating_five_count             1528 non-null   float64\n",
      " 10  rating_four_count             1528 non-null   float64\n",
      " 11  rating_three_count            1528 non-null   float64\n",
      " 12  rating_two_count              1528 non-null   float64\n",
      " 13  rating_one_count              1528 non-null   float64\n",
      " 14  badges_count                  1573 non-null   int64  \n",
      " 15  badge_local_product           1573 non-null   int64  \n",
      " 16  badge_product_quality         1573 non-null   int64  \n",
      " 17  badge_fast_shipping           1573 non-null   int64  \n",
      " 18  tags                          1573 non-null   object \n",
      " 19  product_color                 1532 non-null   object \n",
      " 20  product_variation_size_id     1559 non-null   object \n",
      " 21  product_variation_inventory   1573 non-null   int64  \n",
      " 22  shipping_option_name          1573 non-null   object \n",
      " 23  shipping_option_price         1573 non-null   int64  \n",
      " 24  shipping_is_express           1573 non-null   int64  \n",
      " 25  countries_shipped_to          1573 non-null   int64  \n",
      " 26  inventory_total               1573 non-null   int64  \n",
      " 27  has_urgency_banner            473 non-null    float64\n",
      " 28  urgency_text                  473 non-null    object \n",
      " 29  origin_country                1556 non-null   object \n",
      " 30  merchant_title                1573 non-null   object \n",
      " 31  merchant_name                 1569 non-null   object \n",
      " 32  merchant_info_subtitle        1572 non-null   object \n",
      " 33  merchant_rating_count         1573 non-null   int64  \n",
      " 34  merchant_rating               1573 non-null   float64\n",
      " 35  merchant_id                   1573 non-null   object \n",
      " 36  merchant_has_profile_picture  1573 non-null   int64  \n",
      " 37  merchant_profile_picture      226 non-null    object \n",
      " 38  product_url                   1573 non-null   object \n",
      " 39  product_picture               1573 non-null   object \n",
      " 40  product_id                    1573 non-null   object \n",
      " 41  theme                         1573 non-null   object \n",
      " 42  crawl_month                   1573 non-null   object \n",
      "dtypes: float64(9), int64(15), object(19)\n",
      "memory usage: 528.6+ KB\n"
     ]
    }
   ],
   "source": [
    "base.info()"
   ]
  },
  {
   "cell_type": "code",
   "execution_count": 36,
   "id": "fac9ef07",
   "metadata": {},
   "outputs": [
    {
     "data": {
      "text/plain": [
       "Index(['title', 'title_orig', 'price', 'retail_price', 'currency_buyer',\n",
       "       'units_sold', 'uses_ad_boosts', 'rating', 'rating_count',\n",
       "       'rating_five_count', 'rating_four_count', 'rating_three_count',\n",
       "       'rating_two_count', 'rating_one_count', 'badges_count',\n",
       "       'badge_local_product', 'badge_product_quality', 'badge_fast_shipping',\n",
       "       'tags', 'product_color', 'product_variation_size_id',\n",
       "       'product_variation_inventory', 'shipping_option_name',\n",
       "       'shipping_option_price', 'shipping_is_express', 'countries_shipped_to',\n",
       "       'inventory_total', 'has_urgency_banner', 'urgency_text',\n",
       "       'origin_country', 'merchant_title', 'merchant_name',\n",
       "       'merchant_info_subtitle', 'merchant_rating_count', 'merchant_rating',\n",
       "       'merchant_id', 'merchant_has_profile_picture',\n",
       "       'merchant_profile_picture', 'product_url', 'product_picture',\n",
       "       'product_id', 'theme', 'crawl_month'],\n",
       "      dtype='object')"
      ]
     },
     "execution_count": 36,
     "metadata": {},
     "output_type": "execute_result"
    }
   ],
   "source": [
    "base.columns"
   ]
  },
  {
   "cell_type": "code",
   "execution_count": 37,
   "id": "20d67971",
   "metadata": {},
   "outputs": [],
   "source": [
    "colunas = [ 'title_orig', 'price', 'retail_price', \n",
    "       'units_sold', 'uses_ad_boosts', 'rating', 'rating_count',\n",
    "        'badges_count',\n",
    "       'badge_local_product', 'badge_product_quality', 'badge_fast_shipping',\n",
    "       'tags', 'product_color', 'product_variation_size_id',\n",
    "       'product_variation_inventory',\n",
    "      'shipping_is_express', 'countries_shipped_to',\n",
    "       'inventory_total', 'has_urgency_banner', \n",
    "           'merchant_rating_count', 'merchant_rating','origin_country']"
   ]
  },
  {
   "cell_type": "code",
   "execution_count": 38,
   "id": "d3e7fba4",
   "metadata": {},
   "outputs": [
    {
     "name": "stdout",
     "output_type": "stream",
     "text": [
      "<class 'pandas.core.frame.DataFrame'>\n",
      "RangeIndex: 1573 entries, 0 to 1572\n",
      "Data columns (total 22 columns):\n",
      " #   Column                       Non-Null Count  Dtype  \n",
      "---  ------                       --------------  -----  \n",
      " 0   title_orig                   1573 non-null   object \n",
      " 1   price                        1573 non-null   float64\n",
      " 2   retail_price                 1573 non-null   int64  \n",
      " 3   units_sold                   1573 non-null   int64  \n",
      " 4   uses_ad_boosts               1573 non-null   int64  \n",
      " 5   rating                       1573 non-null   float64\n",
      " 6   rating_count                 1573 non-null   int64  \n",
      " 7   badges_count                 1573 non-null   int64  \n",
      " 8   badge_local_product          1573 non-null   int64  \n",
      " 9   badge_product_quality        1573 non-null   int64  \n",
      " 10  badge_fast_shipping          1573 non-null   int64  \n",
      " 11  tags                         1573 non-null   object \n",
      " 12  product_color                1532 non-null   object \n",
      " 13  product_variation_size_id    1559 non-null   object \n",
      " 14  product_variation_inventory  1573 non-null   int64  \n",
      " 15  shipping_is_express          1573 non-null   int64  \n",
      " 16  countries_shipped_to         1573 non-null   int64  \n",
      " 17  inventory_total              1573 non-null   int64  \n",
      " 18  has_urgency_banner           473 non-null    float64\n",
      " 19  merchant_rating_count        1573 non-null   int64  \n",
      " 20  merchant_rating              1573 non-null   float64\n",
      " 21  origin_country               1556 non-null   object \n",
      "dtypes: float64(4), int64(13), object(5)\n",
      "memory usage: 270.5+ KB\n"
     ]
    }
   ],
   "source": [
    "base_reduzida = base[colunas]\n",
    "\n",
    "base_reduzida.info()"
   ]
  },
  {
   "cell_type": "markdown",
   "id": "15f8128c",
   "metadata": {},
   "source": [
    "- Analise de dados ausentes"
   ]
  },
  {
   "cell_type": "code",
   "execution_count": 39,
   "id": "cdd3d665",
   "metadata": {},
   "outputs": [
    {
     "data": {
      "text/plain": [
       "has_urgency_banner             1100\n",
       "product_color                    41\n",
       "origin_country                   17\n",
       "product_variation_size_id        14\n",
       "price                             0\n",
       "merchant_rating                   0\n",
       "merchant_rating_count             0\n",
       "inventory_total                   0\n",
       "countries_shipped_to              0\n",
       "shipping_is_express               0\n",
       "product_variation_inventory       0\n",
       "title_orig                        0\n",
       "badge_fast_shipping               0\n",
       "badge_product_quality             0\n",
       "badge_local_product               0\n",
       "badges_count                      0\n",
       "rating_count                      0\n",
       "rating                            0\n",
       "uses_ad_boosts                    0\n",
       "units_sold                        0\n",
       "retail_price                      0\n",
       "tags                              0\n",
       "dtype: int64"
      ]
     },
     "execution_count": 39,
     "metadata": {},
     "output_type": "execute_result"
    }
   ],
   "source": [
    "# ou base_reduzida.isna().sum()\n",
    "base_reduzida.isnull().sum().sort_values(ascending=False)\n"
   ]
  },
  {
   "cell_type": "code",
   "execution_count": 40,
   "id": "5b9bd2d2",
   "metadata": {},
   "outputs": [
    {
     "name": "stderr",
     "output_type": "stream",
     "text": [
      "C:\\Users\\Positivo\\AppData\\Local\\Temp\\ipykernel_9696\\2222537584.py:4: SettingWithCopyWarning: \n",
      "A value is trying to be set on a copy of a slice from a DataFrame.\n",
      "Try using .loc[row_indexer,col_indexer] = value instead\n",
      "\n",
      "See the caveats in the documentation: https://pandas.pydata.org/pandas-docs/stable/user_guide/indexing.html#returning-a-view-versus-a-copy\n",
      "  base_reduzida.loc[base_reduzida[\"has_urgency_banner\"].isna(),\"has_urgency_banner\"] = \"0\"\n"
     ]
    }
   ],
   "source": [
    "# Substituir 41 linha de product_color por vazio\n",
    "base_reduzida.loc[base_reduzida[\"product_color\"].isna(),\"product_color\"] = \"\"\n",
    "base_reduzida.loc[base_reduzida[\"product_variation_size_id\"].isna(),\"product_variation_size_id\"] = \"\"\n",
    "base_reduzida.loc[base_reduzida[\"has_urgency_banner\"].isna(),\"has_urgency_banner\"] = \"0\"\n",
    "base_reduzida.loc[base_reduzida[\"origin_country\"].isna(),\"origin_country\"] = \"\""
   ]
  },
  {
   "cell_type": "code",
   "execution_count": 41,
   "id": "09258abe",
   "metadata": {},
   "outputs": [
    {
     "data": {
      "text/plain": [
       "title_orig                     0\n",
       "price                          0\n",
       "merchant_rating                0\n",
       "merchant_rating_count          0\n",
       "has_urgency_banner             0\n",
       "inventory_total                0\n",
       "countries_shipped_to           0\n",
       "shipping_is_express            0\n",
       "product_variation_inventory    0\n",
       "product_variation_size_id      0\n",
       "product_color                  0\n",
       "tags                           0\n",
       "badge_fast_shipping            0\n",
       "badge_product_quality          0\n",
       "badge_local_product            0\n",
       "badges_count                   0\n",
       "rating_count                   0\n",
       "rating                         0\n",
       "uses_ad_boosts                 0\n",
       "units_sold                     0\n",
       "retail_price                   0\n",
       "origin_country                 0\n",
       "dtype: int64"
      ]
     },
     "execution_count": 41,
     "metadata": {},
     "output_type": "execute_result"
    }
   ],
   "source": [
    "base_reduzida.isnull().sum().sort_values(ascending=False)"
   ]
  },
  {
   "cell_type": "code",
   "execution_count": 42,
   "id": "c1f89893",
   "metadata": {},
   "outputs": [],
   "source": [
    "# Separar os titulos entre colunas categorias e numericas\n",
    "colunas_numericas = base_reduzida.describe().columns\n",
    "# ou seja se o i nao tiver em numericas tras apenas categoricas\n",
    "colunas_categoricas = [i for i in base_reduzida if i not in colunas_numericas] \n"
   ]
  },
  {
   "cell_type": "markdown",
   "id": "090fb70b",
   "metadata": {},
   "source": [
    "# <font color = \"Green\"> **4 Analise exploratoria dos dados** <a name = \"4\"></a>\n",
    "    \n",
    "[Voltar ao Indice](#Voltar)    "
   ]
  },
  {
   "cell_type": "markdown",
   "id": "9780f4f6",
   "metadata": {},
   "source": [
    "- 4.1 Analise da distribuição dos dados"
   ]
  },
  {
   "cell_type": "markdown",
   "id": "21be312a",
   "metadata": {},
   "source": [
    "- Dados Categoricos"
   ]
  },
  {
   "cell_type": "code",
   "execution_count": 43,
   "id": "fbf64569",
   "metadata": {},
   "outputs": [
    {
     "data": {
      "text/plain": [
       "['title_orig',\n",
       " 'tags',\n",
       " 'product_color',\n",
       " 'product_variation_size_id',\n",
       " 'has_urgency_banner',\n",
       " 'origin_country']"
      ]
     },
     "execution_count": 43,
     "metadata": {},
     "output_type": "execute_result"
    }
   ],
   "source": [
    "colunas_categoricas"
   ]
  },
  {
   "cell_type": "code",
   "execution_count": 13,
   "id": "f8fa9883",
   "metadata": {},
   "outputs": [
    {
     "data": {
      "text/plain": [
       "0       Summer,Fashion,womenunderwearsuit,printedpajam...\n",
       "1       Mini,womens dresses,Summer,Patchwork,fashion d...\n",
       "2       Summer,cardigan,women beachwear,chiffon,Sexy w...\n",
       "3       Summer,Shorts,Cotton,Cotton T Shirt,Sleeve,pri...\n",
       "4       Summer,Plus Size,Lace,Casual pants,Bottom,pant...\n",
       "                              ...                        \n",
       "1568    bohemia,Plus Size,dandelionfloralprinted,short...\n",
       "1569    Summer,Panties,Elastic,Lace,Casual pants,casua...\n",
       "1570    runningshort,Beach Shorts,beachpant,menbeachsh...\n",
       "1571    Summer,fashion women,Fashion,Lace,Dresses,Dres...\n",
       "1572    Summer,Leggings,slim,Yoga,pants,Slim Fit,Women...\n",
       "Name: tags, Length: 1573, dtype: object"
      ]
     },
     "execution_count": 13,
     "metadata": {},
     "output_type": "execute_result"
    }
   ],
   "source": [
    "base_reduzida[\"tags\"]"
   ]
  },
  {
   "cell_type": "code",
   "execution_count": 14,
   "id": "78e85cd7",
   "metadata": {},
   "outputs": [
    {
     "data": {
      "image/png": "[encoded data removed]",
      "text/plain": [
       "<Figure size 1080x360 with 1 Axes>"
      ]
     },
     "metadata": {
      "needs_background": "light"
     },
     "output_type": "display_data"
    }
   ],
   "source": [
    "# Grafico de contagem\n",
    "fig, ax = plt.subplots(figsize=[15,5])\n",
    "\n",
    "sns.countplot(x=\"product_color\",data=base_reduzida)\n",
    "plt.xticks(rotation=90)\n",
    "plt.show()"
   ]
  },
  {
   "cell_type": "code",
   "execution_count": 15,
   "id": "111f98ec",
   "metadata": {
    "scrolled": false
   },
   "outputs": [
    {
     "data": {
      "image/png": "[encoded data removed]",
      "text/plain": [
       "<Figure size 1080x360 with 1 Axes>"
      ]
     },
     "metadata": {
      "needs_background": "light"
     },
     "output_type": "display_data"
    },
    {
     "data": {
      "image/png": "[encoded data removed]",
      "text/plain": [
       "<Figure size 1080x360 with 1 Axes>"
      ]
     },
     "metadata": {
      "needs_background": "light"
     },
     "output_type": "display_data"
    },
    {
     "data": {
      "image/png": "[encoded data removed]",
      "text/plain": [
       "<Figure size 1080x360 with 1 Axes>"
      ]
     },
     "metadata": {
      "needs_background": "light"
     },
     "output_type": "display_data"
    },
    {
     "data": {
      "image/png": "[encoded data removed]",
      "text/plain": [
       "<Figure size 1080x360 with 1 Axes>"
      ]
     },
     "metadata": {
      "needs_background": "light"
     },
     "output_type": "display_data"
    }
   ],
   "source": [
    "# colocando as outras variaveis em graficos com o for\n",
    "\n",
    "for colunas in colunas_categoricas:\n",
    "    if colunas not in ['title_orig','tags']:\n",
    "        fig, ax = plt.subplots(figsize=[15,5])\n",
    "        sns.countplot(x=colunas,data=base_reduzida)\n",
    "        plt.xticks(rotation=90)\n",
    "        plt.show()\n",
    "        \n",
    "        "
   ]
  },
  {
   "cell_type": "markdown",
   "id": "b6a49783",
   "metadata": {},
   "source": [
    "- Dados numeicos"
   ]
  },
  {
   "cell_type": "code",
   "execution_count": null,
   "id": "62973a32",
   "metadata": {},
   "outputs": [],
   "source": [
    "# colocando as outras variaveis numericas em graficos com o for\n",
    "\n",
    "for colunas in colunas_numericas:\n",
    "    if colunas not in ['title_orig','tags']:\n",
    "        fig, ax = plt.subplots(figsize=[15,5])\n",
    "        sns.histplot(x=colunas,data=base_reduzida,color=\"g\")\n",
    "        plt.xticks(rotation=90)\n",
    "        plt.show()\n",
    "        "
   ]
  },
  {
   "cell_type": "markdown",
   "id": "cbcd93b5",
   "metadata": {},
   "source": [
    "- Tratando a variavel units_sold trocando todas abaixo de 10 para 10"
   ]
  },
  {
   "cell_type": "code",
   "execution_count": 16,
   "id": "54988c70",
   "metadata": {},
   "outputs": [],
   "source": [
    "base_reduzida.loc[base[\"units_sold\"]<10,\"units_sold\"] = 10"
   ]
  },
  {
   "cell_type": "code",
   "execution_count": 17,
   "id": "e25c9e3d",
   "metadata": {},
   "outputs": [
    {
     "data": {
      "text/plain": [
       "<AxesSubplot:ylabel='Frequency'>"
      ]
     },
     "execution_count": 17,
     "metadata": {},
     "output_type": "execute_result"
    },
    {
     "data": {
      "image/png": "[encoded data removed]",
      "text/plain": [
       "<Figure size 432x288 with 1 Axes>"
      ]
     },
     "metadata": {
      "needs_background": "light"
     },
     "output_type": "display_data"
    }
   ],
   "source": [
    "base[\"units_sold\"].value_counts().plot.hist()"
   ]
  },
  {
   "cell_type": "code",
   "execution_count": 18,
   "id": "72e429d8",
   "metadata": {},
   "outputs": [
    {
     "data": {
      "text/plain": [
       "<AxesSubplot:xlabel='units_sold', ylabel='Count'>"
      ]
     },
     "execution_count": 18,
     "metadata": {},
     "output_type": "execute_result"
    },
    {
     "data": {
      "image/png": "[encoded data removed]",
      "text/plain": [
       "<Figure size 432x288 with 1 Axes>"
      ]
     },
     "metadata": {
      "needs_background": "light"
     },
     "output_type": "display_data"
    }
   ],
   "source": [
    "sns.histplot(base_reduzida[\"units_sold\"])"
   ]
  },
  {
   "cell_type": "code",
   "execution_count": null,
   "id": "b099d025",
   "metadata": {},
   "outputs": [],
   "source": [
    "sns.distplot(base_reduzida[\"units_sold\"])"
   ]
  },
  {
   "cell_type": "code",
   "execution_count": 19,
   "id": "4dc0d1c6",
   "metadata": {},
   "outputs": [
    {
     "data": {
      "text/plain": [
       "Index(['title_orig', 'price', 'retail_price', 'units_sold', 'uses_ad_boosts',\n",
       "       'rating', 'rating_count', 'badges_count', 'badge_local_product',\n",
       "       'badge_product_quality', 'badge_fast_shipping', 'tags', 'product_color',\n",
       "       'product_variation_size_id', 'product_variation_inventory',\n",
       "       'shipping_is_express', 'countries_shipped_to', 'inventory_total',\n",
       "       'has_urgency_banner', 'merchant_rating_count', 'merchant_rating',\n",
       "       'origin_country'],\n",
       "      dtype='object')"
      ]
     },
     "execution_count": 19,
     "metadata": {},
     "output_type": "execute_result"
    }
   ],
   "source": [
    "base_reduzida.columns"
   ]
  },
  {
   "cell_type": "code",
   "execution_count": 20,
   "id": "a5177786",
   "metadata": {},
   "outputs": [],
   "source": [
    "# ! pip install wordcloud   , obs boblioteca para tratar palavras\n",
    "from wordcloud import WordCloud, STOPWORDS"
   ]
  },
  {
   "cell_type": "code",
   "execution_count": null,
   "id": "6e32064f",
   "metadata": {},
   "outputs": [],
   "source": [
    "word_string = \"\".join(base_reduzida[\"tags\"].str.lower())"
   ]
  },
  {
   "cell_type": "code",
   "execution_count": null,
   "id": "0febada6",
   "metadata": {},
   "outputs": [],
   "source": [
    "wordcloud = WordCloud(stopwords=STOPWORDS).generate(word_string)\n",
    "plt.subplots(figsize=[15,15])\n",
    "plt.clf()\n",
    "plt.imshow(wordcloud)\n",
    "plt.axis(\"off\")\n",
    "plt.show()"
   ]
  },
  {
   "cell_type": "code",
   "execution_count": 44,
   "id": "7c014dac",
   "metadata": {},
   "outputs": [
    {
     "name": "stderr",
     "output_type": "stream",
     "text": [
      "C:\\Users\\Positivo\\AppData\\Local\\Temp\\ipykernel_9696\\2016284496.py:1: SettingWithCopyWarning: \n",
      "A value is trying to be set on a copy of a slice from a DataFrame.\n",
      "Try using .loc[row_indexer,col_indexer] = value instead\n",
      "\n",
      "See the caveats in the documentation: https://pandas.pydata.org/pandas-docs/stable/user_guide/indexing.html#returning-a-view-versus-a-copy\n",
      "  base_reduzida[\"total\"] = base_reduzida[\"price\"] * base_reduzida[\"units_sold\"]\n"
     ]
    },
    {
     "data": {
      "text/plain": [
       "7000.0"
      ]
     },
     "execution_count": 44,
     "metadata": {},
     "output_type": "execute_result"
    }
   ],
   "source": [
    "base_reduzida[\"total\"] = base_reduzida[\"price\"] * base_reduzida[\"units_sold\"]\n",
    "\n",
    "np.median(base_reduzida[\"total\"])"
   ]
  },
  {
   "cell_type": "code",
   "execution_count": 47,
   "id": "b9bb101c",
   "metadata": {},
   "outputs": [],
   "source": [
    "# Criando produtos de sucesso\n",
    "base_reduzida.loc[base_reduzida[\"total\"]>=7000,\"prod_sucesso\"] = 1\n",
    "base_reduzida.loc[base_reduzida[\"total\"]<7000,\"prod_sucesso\"] = 0"
   ]
  },
  {
   "cell_type": "code",
   "execution_count": 48,
   "id": "f6b5f56d",
   "metadata": {},
   "outputs": [
    {
     "name": "stdout",
     "output_type": "stream",
     "text": [
      "<class 'pandas.core.frame.DataFrame'>\n",
      "RangeIndex: 1573 entries, 0 to 1572\n",
      "Data columns (total 24 columns):\n",
      " #   Column                       Non-Null Count  Dtype  \n",
      "---  ------                       --------------  -----  \n",
      " 0   title_orig                   1573 non-null   object \n",
      " 1   price                        1573 non-null   float64\n",
      " 2   retail_price                 1573 non-null   int64  \n",
      " 3   units_sold                   1573 non-null   int64  \n",
      " 4   uses_ad_boosts               1573 non-null   int64  \n",
      " 5   rating                       1573 non-null   float64\n",
      " 6   rating_count                 1573 non-null   int64  \n",
      " 7   badges_count                 1573 non-null   int64  \n",
      " 8   badge_local_product          1573 non-null   int64  \n",
      " 9   badge_product_quality        1573 non-null   int64  \n",
      " 10  badge_fast_shipping          1573 non-null   int64  \n",
      " 11  tags                         1573 non-null   object \n",
      " 12  product_color                1573 non-null   object \n",
      " 13  product_variation_size_id    1573 non-null   object \n",
      " 14  product_variation_inventory  1573 non-null   int64  \n",
      " 15  shipping_is_express          1573 non-null   int64  \n",
      " 16  countries_shipped_to         1573 non-null   int64  \n",
      " 17  inventory_total              1573 non-null   int64  \n",
      " 18  has_urgency_banner           1573 non-null   object \n",
      " 19  merchant_rating_count        1573 non-null   int64  \n",
      " 20  merchant_rating              1573 non-null   float64\n",
      " 21  origin_country               1573 non-null   object \n",
      " 22  total                        1573 non-null   float64\n",
      " 23  prod_sucesso                 1573 non-null   float64\n",
      "dtypes: float64(5), int64(13), object(6)\n",
      "memory usage: 295.1+ KB\n"
     ]
    }
   ],
   "source": [
    "base_reduzida.info()"
   ]
  },
  {
   "cell_type": "code",
   "execution_count": 49,
   "id": "160a93f4",
   "metadata": {},
   "outputs": [
    {
     "name": "stderr",
     "output_type": "stream",
     "text": [
      "C:\\Users\\Positivo\\AppData\\Local\\Temp\\ipykernel_9696\\3936794040.py:1: SettingWithCopyWarning: \n",
      "A value is trying to be set on a copy of a slice from a DataFrame.\n",
      "Try using .loc[row_indexer,col_indexer] = value instead\n",
      "\n",
      "See the caveats in the documentation: https://pandas.pydata.org/pandas-docs/stable/user_guide/indexing.html#returning-a-view-versus-a-copy\n",
      "  base_reduzida[\"desconto\"] = base_reduzida[\"price\"] - base_reduzida[\"retail_price\"]\n"
     ]
    }
   ],
   "source": [
    "base_reduzida[\"desconto\"] = base_reduzida[\"price\"] - base_reduzida[\"retail_price\"]"
   ]
  },
  {
   "cell_type": "code",
   "execution_count": null,
   "id": "4aa2f5f8",
   "metadata": {},
   "outputs": [],
   "source": [
    "#fig, ax = plt.subplots(figsize = [15,8])\n",
    "\n",
    "sns.displot(data=base_reduzida[base_reduzida[\"prod_sucesso\"]==1], x=\"desconto\")\n",
    "sns.displot(data=base_reduzida[base_reduzida[\"prod_sucesso\"]==0], x=\"desconto\")\n",
    "plt.legend()\n",
    "plt.show()"
   ]
  },
  {
   "cell_type": "code",
   "execution_count": null,
   "id": "cb79110e",
   "metadata": {},
   "outputs": [],
   "source": [
    "fig, ax = plt.subplots(figsize = (20,6))\n",
    "sns.distplot(base_reduzida.loc[base_reduzida[\"prod_sucesso\"]==1, \"desconto\"],label=\"1\")\n",
    "sns.distplot(base_reduzida.loc[base_reduzida[\"prod_sucesso\"]==0, \"desconto\"],label=\"0\")\n",
    "plt.legend()\n",
    "plt.show()"
   ]
  },
  {
   "cell_type": "code",
   "execution_count": null,
   "id": "85ac2f44",
   "metadata": {
    "scrolled": true
   },
   "outputs": [],
   "source": [
    "fig, ax = plt.subplots(figsize = (20,6))\n",
    "sns.distplot(base_reduzida.loc[base_reduzida[\"prod_sucesso\"]==1, \"rating\"],label=\"1\")\n",
    "sns.distplot(base_reduzida.loc[base_reduzida[\"prod_sucesso\"]==0, \"rating\"],label=\"0\")\n",
    "plt.legend()\n",
    "plt.show()"
   ]
  },
  {
   "cell_type": "markdown",
   "id": "534cc894",
   "metadata": {},
   "source": [
    "# <font color = \"Green\"> **5 machine learning** <a name = \"5\"></a>\n",
    "    \n",
    "[Voltar ao Indice](#Voltar)    "
   ]
  },
  {
   "cell_type": "code",
   "execution_count": 50,
   "id": "e91fa094",
   "metadata": {},
   "outputs": [],
   "source": [
    "from sklearn.model_selection import train_test_split"
   ]
  },
  {
   "cell_type": "code",
   "execution_count": 51,
   "id": "99c7d818",
   "metadata": {},
   "outputs": [],
   "source": [
    "colunas_numericas2 = base_reduzida.describe().columns\n",
    "x = base_reduzida[colunas_numericas2] \n",
    "y = base_reduzida[\"prod_sucesso\"]\n",
    "x_train,x_test, y_train, y_test = train_test_split(x,y,test_size=0.3)"
   ]
  },
  {
   "cell_type": "code",
   "execution_count": 53,
   "id": "42415458",
   "metadata": {},
   "outputs": [
    {
     "data": {
      "text/plain": [
       "GridSearchCV(cv=5, estimator=RandomForestClassifier(),\n",
       "             param_grid=[{'max_features': [2, 4, 6, 8],\n",
       "                          'n_estimators': [3, 10, 30]},\n",
       "                         {'bootstrap': [False], 'max_features': [2, 3, 4],\n",
       "                          'n_estimators': [3, 10]}],\n",
       "             return_train_score=True)"
      ]
     },
     "execution_count": 53,
     "metadata": {},
     "output_type": "execute_result"
    }
   ],
   "source": [
    "from sklearn.model_selection import GridSearchCV\n",
    "from sklearn.ensemble import RandomForestClassifier\n",
    "\n",
    "param_grid = [\n",
    "    {\"n_estimators\":[3,10,30],\"max_features\": [2,4,6,8]},\n",
    "    {\"bootstrap\": [False], \"n_estimators\":[3,10], \"max_features\": [2,3,4]}   \n",
    "    \n",
    "]\n",
    "\n",
    "forest_reg = RandomForestClassifier()\n",
    "grid_search = GridSearchCV(forest_reg,param_grid,cv=5,\n",
    "                          return_train_score=True)\n",
    "\n",
    "grid_search.fit(x_train,y_train)"
   ]
  },
  {
   "cell_type": "code",
   "execution_count": 54,
   "id": "34cc84c0",
   "metadata": {},
   "outputs": [
    {
     "data": {
      "text/plain": [
       "{'max_features': 2, 'n_estimators': 10}"
      ]
     },
     "execution_count": 54,
     "metadata": {},
     "output_type": "execute_result"
    }
   ],
   "source": [
    "grid_search.best_params_"
   ]
  },
  {
   "cell_type": "code",
   "execution_count": 55,
   "id": "2f1b3736",
   "metadata": {},
   "outputs": [],
   "source": [
    "rf_model = grid_search.best_estimator_"
   ]
  },
  {
   "cell_type": "code",
   "execution_count": 56,
   "id": "273c633c",
   "metadata": {},
   "outputs": [
    {
     "data": {
      "text/plain": [
       "RandomForestClassifier(max_features=2, n_estimators=10)"
      ]
     },
     "execution_count": 56,
     "metadata": {},
     "output_type": "execute_result"
    }
   ],
   "source": [
    "rf_model"
   ]
  },
  {
   "cell_type": "code",
   "execution_count": 57,
   "id": "80fde762",
   "metadata": {},
   "outputs": [
    {
     "name": "stdout",
     "output_type": "stream",
     "text": [
      "              precision    recall  f1-score   support\n",
      "\n",
      "         0.0       1.00      1.00      1.00       235\n",
      "         1.0       1.00      1.00      1.00       237\n",
      "\n",
      "    accuracy                           1.00       472\n",
      "   macro avg       1.00      1.00      1.00       472\n",
      "weighted avg       1.00      1.00      1.00       472\n",
      "\n",
      "[[235   0]\n",
      " [  0 237]]\n"
     ]
    }
   ],
   "source": [
    "from sklearn.metrics import classification_report, confusion_matrix\n",
    "\n",
    "y_pred = rf_model.predict(x_test)\n",
    "print(classification_report(y_test,y_pred))\n",
    "print(confusion_matrix(y_test,y_pred))"
   ]
  },
  {
   "cell_type": "code",
   "execution_count": 67,
   "id": "3299352f",
   "metadata": {},
   "outputs": [
    {
     "data": {
      "text/plain": [
       "<AxesSubplot:>"
      ]
     },
     "execution_count": 67,
     "metadata": {},
     "output_type": "execute_result"
    },
    {
     "data": {
      "image/png": "[encoded data removed]",
      "text/plain": [
       "<Figure size 1440x576 with 1 Axes>"
      ]
     },
     "metadata": {
      "needs_background": "light"
     },
     "output_type": "display_data"
    }
   ],
   "source": [
    "# variaveis que mais impactan no modelo\n",
    "importancias = pd.DataFrame(rf_model.feature_importances_,\n",
    "                           index=x.columns,\n",
    "                           columns=[\"importance\"]).sort_values(\"importance\", ascending=True)\n",
    "fig,ax = plt.subplots(figsize=[20,8])\n",
    "importancias.plot(kind = \"barh\",ax=ax,color=\"g\")"
   ]
  },
  {
   "cell_type": "code",
   "execution_count": 73,
   "id": "01165a1a",
   "metadata": {},
   "outputs": [
    {
     "ename": "ModuleNotFoundError",
     "evalue": "No module named 'shap'",
     "output_type": "error",
     "traceback": [
      "\u001b[1;31m---------------------------------------------------------------------------\u001b[0m",
      "\u001b[1;31mModuleNotFoundError\u001b[0m                       Traceback (most recent call last)",
      "Input \u001b[1;32mIn [73]\u001b[0m, in \u001b[0;36m<cell line: 1>\u001b[1;34m()\u001b[0m\n\u001b[1;32m----> 1\u001b[0m \u001b[38;5;28;01mimport\u001b[39;00m \u001b[38;5;21;01mshap\u001b[39;00m\n\u001b[0;32m      3\u001b[0m explainer \u001b[38;5;241m=\u001b[39m \u001b[38;5;241m0\u001b[39m\n",
      "\u001b[1;31mModuleNotFoundError\u001b[0m: No module named 'shap'"
     ]
    }
   ],
   "source": [
    "import shap\n",
    "\n",
    "explainer = 0"
   ]
  },
  {
   "cell_type": "markdown",
   "id": "74fd2d98",
   "metadata": {},
   "source": [
    "# <font color = \"Green\"> **6 conclusoes** <a name = \"6\"></a>\n",
    "    \n",
    "[Voltar ao Indice](#Voltar)    "
   ]
  },
  {
   "cell_type": "code",
   "execution_count": null,
   "id": "b4e1c0f1",
   "metadata": {},
   "outputs": [],
   "source": []
  }
 ],
 "metadata": {
  "kernelspec": {
   "display_name": "Python 3 (ipykernel)",
   "language": "python",
   "name": "python3"
  },
  "language_info": {
   "codemirror_mode": {
    "name": "ipython",
    "version": 3
   },
   "file_extension": ".py",
   "mimetype": "text/x-python",
   "name": "python",
   "nbconvert_exporter": "python",
   "pygments_lexer": "ipython3",
   "version": "3.9.12"
  }
 },
 "nbformat": 4,
 "nbformat_minor": 5
}
